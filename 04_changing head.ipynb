{
 "cells": [
  {
   "cell_type": "markdown",
   "id": "ea8c0f07-cdb1-491d-9d96-8775aaec39c7",
   "metadata": {},
   "source": [
    "# Head change"
   ]
  },
  {
   "cell_type": "markdown",
   "id": "76e8452d-b4d8-48c9-a253-159067a3e694",
   "metadata": {},
   "source": [
    "Recognizing variety -> recognizing disease"
   ]
  },
  {
   "cell_type": "markdown",
   "id": "182bb824-8710-4323-88c5-8c6424a7ede4",
   "metadata": {},
   "source": [
    "We will change the head of the model. The defualt model predicts the type of diseases, but we are also given the type of rice as well. We assume that we can predict the type of disease better if we can use information about the variety of rice. This may sound counterintuitive because the model has to predict both disease and variety, but may do better. "
   ]
  },
  {
   "cell_type": "code",
   "execution_count": 1,
   "id": "4cf2d9a0-330c-4b1d-a6f6-9207ca681cc2",
   "metadata": {},
   "outputs": [],
   "source": [
    "import os\n",
    "from copy import copy, deepcopy\n",
    "# os.environ\n",
    "from fastai.vision.all import *\n",
    "from fastcore.parallel import *\n",
    "path = Path()\n",
    "trn_path = path/'train_images'"
   ]
  },
  {
   "cell_type": "code",
   "execution_count": 2,
   "id": "3b5f5acd-d06f-4f39-97ea-c05be9328a8f",
   "metadata": {},
   "outputs": [
    {
     "data": {
      "text/plain": [
       "(#11) [Path('paddy small models.ipynb'),Path('sample_submission.csv'),Path('test_images'),Path('paddy2.ipynb'),Path('train_images'),Path('paddy.ipynb'),Path('.ipynb_checkpoints'),Path('train.csv'),Path('subm.csv'),Path('changing head.ipynb')...]"
      ]
     },
     "execution_count": 2,
     "metadata": {},
     "output_type": "execute_result"
    }
   ],
   "source": [
    "path.ls()"
   ]
  },
  {
   "cell_type": "code",
   "execution_count": 3,
   "id": "21ca9994-b5cc-46b8-83fc-d479c2a6cb3e",
   "metadata": {},
   "outputs": [
    {
     "data": {
      "text/html": [
       "<div>\n",
       "<style scoped>\n",
       "    .dataframe tbody tr th:only-of-type {\n",
       "        vertical-align: middle;\n",
       "    }\n",
       "\n",
       "    .dataframe tbody tr th {\n",
       "        vertical-align: top;\n",
       "    }\n",
       "\n",
       "    .dataframe thead th {\n",
       "        text-align: right;\n",
       "    }\n",
       "</style>\n",
       "<table border=\"1\" class=\"dataframe\">\n",
       "  <thead>\n",
       "    <tr style=\"text-align: right;\">\n",
       "      <th></th>\n",
       "      <th>image_id</th>\n",
       "      <th>label</th>\n",
       "      <th>variety</th>\n",
       "      <th>age</th>\n",
       "    </tr>\n",
       "  </thead>\n",
       "  <tbody>\n",
       "    <tr>\n",
       "      <th>0</th>\n",
       "      <td>100330.jpg</td>\n",
       "      <td>bacterial_leaf_blight</td>\n",
       "      <td>ADT45</td>\n",
       "      <td>45</td>\n",
       "    </tr>\n",
       "    <tr>\n",
       "      <th>1</th>\n",
       "      <td>100365.jpg</td>\n",
       "      <td>bacterial_leaf_blight</td>\n",
       "      <td>ADT45</td>\n",
       "      <td>45</td>\n",
       "    </tr>\n",
       "    <tr>\n",
       "      <th>2</th>\n",
       "      <td>100382.jpg</td>\n",
       "      <td>bacterial_leaf_blight</td>\n",
       "      <td>ADT45</td>\n",
       "      <td>45</td>\n",
       "    </tr>\n",
       "    <tr>\n",
       "      <th>3</th>\n",
       "      <td>100632.jpg</td>\n",
       "      <td>bacterial_leaf_blight</td>\n",
       "      <td>ADT45</td>\n",
       "      <td>45</td>\n",
       "    </tr>\n",
       "    <tr>\n",
       "      <th>4</th>\n",
       "      <td>101918.jpg</td>\n",
       "      <td>bacterial_leaf_blight</td>\n",
       "      <td>ADT45</td>\n",
       "      <td>45</td>\n",
       "    </tr>\n",
       "    <tr>\n",
       "      <th>...</th>\n",
       "      <td>...</td>\n",
       "      <td>...</td>\n",
       "      <td>...</td>\n",
       "      <td>...</td>\n",
       "    </tr>\n",
       "    <tr>\n",
       "      <th>10402</th>\n",
       "      <td>107607.jpg</td>\n",
       "      <td>tungro</td>\n",
       "      <td>Zonal</td>\n",
       "      <td>55</td>\n",
       "    </tr>\n",
       "    <tr>\n",
       "      <th>10403</th>\n",
       "      <td>107811.jpg</td>\n",
       "      <td>tungro</td>\n",
       "      <td>Zonal</td>\n",
       "      <td>55</td>\n",
       "    </tr>\n",
       "    <tr>\n",
       "      <th>10404</th>\n",
       "      <td>108547.jpg</td>\n",
       "      <td>tungro</td>\n",
       "      <td>Zonal</td>\n",
       "      <td>55</td>\n",
       "    </tr>\n",
       "    <tr>\n",
       "      <th>10405</th>\n",
       "      <td>110245.jpg</td>\n",
       "      <td>tungro</td>\n",
       "      <td>Zonal</td>\n",
       "      <td>55</td>\n",
       "    </tr>\n",
       "    <tr>\n",
       "      <th>10406</th>\n",
       "      <td>110381.jpg</td>\n",
       "      <td>tungro</td>\n",
       "      <td>Zonal</td>\n",
       "      <td>55</td>\n",
       "    </tr>\n",
       "  </tbody>\n",
       "</table>\n",
       "<p>10407 rows × 4 columns</p>\n",
       "</div>"
      ],
      "text/plain": [
       "         image_id                  label variety  age\n",
       "0      100330.jpg  bacterial_leaf_blight   ADT45   45\n",
       "1      100365.jpg  bacterial_leaf_blight   ADT45   45\n",
       "2      100382.jpg  bacterial_leaf_blight   ADT45   45\n",
       "3      100632.jpg  bacterial_leaf_blight   ADT45   45\n",
       "4      101918.jpg  bacterial_leaf_blight   ADT45   45\n",
       "...           ...                    ...     ...  ...\n",
       "10402  107607.jpg                 tungro   Zonal   55\n",
       "10403  107811.jpg                 tungro   Zonal   55\n",
       "10404  108547.jpg                 tungro   Zonal   55\n",
       "10405  110245.jpg                 tungro   Zonal   55\n",
       "10406  110381.jpg                 tungro   Zonal   55\n",
       "\n",
       "[10407 rows x 4 columns]"
      ]
     },
     "execution_count": 3,
     "metadata": {},
     "output_type": "execute_result"
    }
   ],
   "source": [
    "df = pd.read_csv('train.csv')\n",
    "df"
   ]
  },
  {
   "cell_type": "code",
   "execution_count": 4,
   "id": "521c9f11-9107-4600-83a0-9ca9ed0621e4",
   "metadata": {},
   "outputs": [
    {
     "data": {
      "text/plain": [
       "ADT45             6992\n",
       "KarnatakaPonni     988\n",
       "Ponni              657\n",
       "AtchayaPonni       461\n",
       "Zonal              399\n",
       "AndraPonni         377\n",
       "Onthanel           351\n",
       "IR20               114\n",
       "RR                  36\n",
       "Surya               32\n",
       "Name: variety, dtype: int64"
      ]
     },
     "execution_count": 4,
     "metadata": {},
     "output_type": "execute_result"
    }
   ],
   "source": [
    "df.variety.value_counts()"
   ]
  },
  {
   "cell_type": "code",
   "execution_count": 27,
   "id": "7e746437-e0cf-42dd-8466-97e3428eab85",
   "metadata": {},
   "outputs": [
    {
     "data": {
      "text/plain": [
       "<fastai.learner.Learner at 0x7f9092c59850>"
      ]
     },
     "execution_count": 27,
     "metadata": {},
     "output_type": "execute_result"
    }
   ],
   "source": [
    "dls = ImageDataLoaders.from_folder(\n",
    "    trn_path, \n",
    "    valid_pct=0.2, \n",
    "    seed=42,\n",
    "    item_tfms=Resize(224),\n",
    "    # batch_tfms=aug_transforms(size=128, min_scale=0.75)\n",
    ")\n",
    "learn = vision_learner(dls, resnet34, metrics=error_rate)\n",
    "deepcopy(learn)"
   ]
  },
  {
   "cell_type": "markdown",
   "id": "bdda0539-9f01-49c2-8c69-b1df17c8aa16",
   "metadata": {},
   "source": [
    "## Changing the head"
   ]
  },
  {
   "cell_type": "code",
   "execution_count": 9,
   "id": "418470dc-6520-48fa-9d02-0a1add669850",
   "metadata": {},
   "outputs": [],
   "source": [
    "# Grab a model\n",
    "m = learn.model"
   ]
  },
  {
   "cell_type": "code",
   "execution_count": 10,
   "id": "8ef1c4c7-fa53-4ece-a55d-cf51660298b0",
   "metadata": {},
   "outputs": [],
   "source": [
    "# h = m[1]\n",
    "# ll = h[-1]\n",
    "# del(h[-1])"
   ]
  },
  {
   "cell_type": "markdown",
   "id": "b3b3e190-e1b9-465c-a4df-46c9bd128259",
   "metadata": {},
   "source": [
    "Time to create a new layer for the head."
   ]
  },
  {
   "cell_type": "code",
   "execution_count": 22,
   "id": "334b0926-eddf-4386-85bd-49b4aee42c15",
   "metadata": {},
   "outputs": [],
   "source": [
    "class DiseaseAndTypeClassifier(nn.Module):\n",
    "    def __init__(self, m):\n",
    "        super().__init__()\n",
    "        self.l1 = nn.Linear(512, 10, bias=False) # variety of rice\n",
    "        self.l2 = nn.Linear(512, 10, bias=False) # type of disease\n",
    "        del(m[1][-1])\n",
    "        self.m = m\n",
    "    \n",
    "    def forward(self, x):\n",
    "        x = self.m(x)\n",
    "        x1 = self.l1(x)\n",
    "        x2 = self.l2(x)\n",
    "        return x1, x2"
   ]
  },
  {
   "cell_type": "markdown",
   "id": "26aa874b-7345-41dc-996b-ab1f071c3e14",
   "metadata": {},
   "source": [
    "We created a new model. Let's copy a learner"
   ]
  },
  {
   "cell_type": "code",
   "execution_count": 44,
   "id": "e8fddb8b-a82a-4239-95af-9b86a25bb006",
   "metadata": {},
   "outputs": [
    {
     "data": {
      "text/html": [
       "\n",
       "<style>\n",
       "    /* Turns off some styling */\n",
       "    progress {\n",
       "        /* gets rid of default border in Firefox and Opera. */\n",
       "        border: none;\n",
       "        /* Needs to be in here for Safari polyfill so background images work as expected. */\n",
       "        background-size: auto;\n",
       "    }\n",
       "    progress:not([value]), progress:not([value])::-webkit-progress-bar {\n",
       "        background: repeating-linear-gradient(45deg, #7e7e7e, #7e7e7e 10px, #5c5c5c 10px, #5c5c5c 20px);\n",
       "    }\n",
       "    .progress-bar-interrupted, .progress-bar-interrupted::-webkit-progress-bar {\n",
       "        background: #F44336;\n",
       "    }\n",
       "</style>\n"
      ],
      "text/plain": [
       "<IPython.core.display.HTML object>"
      ]
     },
     "metadata": {},
     "output_type": "display_data"
    },
    {
     "data": {
      "text/html": [],
      "text/plain": [
       "<IPython.core.display.HTML object>"
      ]
     },
     "metadata": {},
     "output_type": "display_data"
    },
    {
     "data": {
      "text/plain": [
       "(TensorBase([[2.1209e-07, 5.3692e-06, 2.1209e-07,  ..., 1.7854e-05,\n",
       "              3.3275e-07, 2.1209e-07],\n",
       "             [2.1123e-05, 1.7505e-03, 1.9627e-05,  ..., 8.1178e-04,\n",
       "              5.6115e-05, 1.9627e-05],\n",
       "             [1.1356e-05, 1.3998e-03, 9.7128e-06,  ..., 4.7895e-05,\n",
       "              6.3788e-06, 6.3788e-06],\n",
       "             ...,\n",
       "             [6.6587e-07, 7.1107e-04, 6.6587e-07,  ..., 6.5450e-05,\n",
       "              6.6587e-07, 6.6587e-07],\n",
       "             [1.6502e-07, 4.1802e-06, 1.6502e-07,  ..., 5.0457e-06,\n",
       "              1.6502e-07, 1.6502e-07],\n",
       "             [6.8573e-07, 1.9268e-03, 6.8573e-07,  ..., 1.2502e-04,\n",
       "              6.8573e-07, 6.8573e-07]]),\n",
       " tensor([4, 0, 5,  ..., 2, 3, 7]))"
      ]
     },
     "execution_count": 44,
     "metadata": {},
     "output_type": "execute_result"
    }
   ],
   "source": [
    "dtc = DiseaseAndTypeClassifier(m)\n",
    "learn2 = deepcopy(learn)\n",
    "# Not trying this yet\n",
    "# learn2.model = dtc\n",
    "\n",
    "learn2.get_preds(dl=learn2.dls.valid) # returns probability and targets"
   ]
  },
  {
   "cell_type": "markdown",
   "id": "c9687796-b346-419b-a9f0-6ce43a5f5eb9",
   "metadata": {
    "jp-MarkdownHeadingCollapsed": true,
    "tags": []
   },
   "source": [
    "### Dummy classifier for testing."
   ]
  },
  {
   "cell_type": "code",
   "execution_count": 47,
   "id": "f1c588b6-bef4-4fc3-99f0-57a6c2804c29",
   "metadata": {
    "tags": []
   },
   "outputs": [],
   "source": [
    "class DummyClassifier(nn.Module):\n",
    "    def __init__(self, m):\n",
    "        super().__init__()\n",
    "        self.m = m\n",
    "    \n",
    "    def forward(self, x):\n",
    "        x = self.m(x)\n",
    "        return x"
   ]
  },
  {
   "cell_type": "code",
   "execution_count": 48,
   "id": "55d8a47c-b88a-4411-9053-cb945e6ab721",
   "metadata": {},
   "outputs": [
    {
     "data": {
      "text/html": [
       "\n",
       "<style>\n",
       "    /* Turns off some styling */\n",
       "    progress {\n",
       "        /* gets rid of default border in Firefox and Opera. */\n",
       "        border: none;\n",
       "        /* Needs to be in here for Safari polyfill so background images work as expected. */\n",
       "        background-size: auto;\n",
       "    }\n",
       "    progress:not([value]), progress:not([value])::-webkit-progress-bar {\n",
       "        background: repeating-linear-gradient(45deg, #7e7e7e, #7e7e7e 10px, #5c5c5c 10px, #5c5c5c 20px);\n",
       "    }\n",
       "    .progress-bar-interrupted, .progress-bar-interrupted::-webkit-progress-bar {\n",
       "        background: #F44336;\n",
       "    }\n",
       "</style>\n"
      ],
      "text/plain": [
       "<IPython.core.display.HTML object>"
      ]
     },
     "metadata": {},
     "output_type": "display_data"
    },
    {
     "data": {
      "text/html": [],
      "text/plain": [
       "<IPython.core.display.HTML object>"
      ]
     },
     "metadata": {},
     "output_type": "display_data"
    },
    {
     "data": {
      "text/plain": [
       "(TensorBase([[2.1209e-07, 5.3692e-06, 2.1209e-07,  ..., 1.7854e-05,\n",
       "              3.3275e-07, 2.1209e-07],\n",
       "             [2.1123e-05, 1.7505e-03, 1.9627e-05,  ..., 8.1178e-04,\n",
       "              5.6115e-05, 1.9627e-05],\n",
       "             [1.1356e-05, 1.3998e-03, 9.7128e-06,  ..., 4.7895e-05,\n",
       "              6.3788e-06, 6.3788e-06],\n",
       "             ...,\n",
       "             [6.6587e-07, 7.1107e-04, 6.6587e-07,  ..., 6.5450e-05,\n",
       "              6.6587e-07, 6.6587e-07],\n",
       "             [1.6502e-07, 4.1802e-06, 1.6502e-07,  ..., 5.0457e-06,\n",
       "              1.6502e-07, 1.6502e-07],\n",
       "             [6.8573e-07, 1.9268e-03, 6.8573e-07,  ..., 1.2502e-04,\n",
       "              6.8573e-07, 6.8573e-07]]),\n",
       " tensor([4, 0, 5,  ..., 2, 3, 7]))"
      ]
     },
     "execution_count": 48,
     "metadata": {},
     "output_type": "execute_result"
    }
   ],
   "source": [
    "dc = DummyClassifier(m)\n",
    "learn2 = deepcopy(learn)\n",
    "learn2.model = dc\n",
    "learn2.get_preds(dl=learn2.dls.valid) # returns probability and targets"
   ]
  },
  {
   "cell_type": "markdown",
   "id": "3252b535-30c7-41b1-9e1e-6fdaf1c2b1ff",
   "metadata": {},
   "source": [
    "### Dummy head works, so let's try our thing to work. So, we need a loss function."
   ]
  },
  {
   "cell_type": "code",
   "execution_count": 23,
   "id": "3ea503a4-a096-4099-9dcd-337972978016",
   "metadata": {},
   "outputs": [],
   "source": [
    "curr_loss_func = learn.loss_func"
   ]
  },
  {
   "cell_type": "code",
   "execution_count": 24,
   "id": "f3765677-ee90-4203-8bf8-73256760e433",
   "metadata": {},
   "outputs": [],
   "source": [
    "def dtc_loss(preds, targs):\n",
    "    \"\"\"Just trying to make our model work with the new structure.\"\"\"\n",
    "    rice_pred, disease_pred = preds\n",
    "    return curr_loss_func(disease_pred, targs)"
   ]
  },
  {
   "cell_type": "code",
   "execution_count": 25,
   "id": "936d17aa-cdcf-4390-a745-0694fd946fb8",
   "metadata": {
    "tags": []
   },
   "outputs": [],
   "source": [
    "def dtc_metrics(preds, targs):\n",
    "    \"\"\"Just trying to make our model work with the new structure.\"\"\"\n",
    "    rice_pred, disease_pred = preds\n",
    "    return error_rate(disease_pred, targs)"
   ]
  },
  {
   "cell_type": "code",
   "execution_count": 28,
   "id": "000de2c2-7ac9-45e8-82fe-d5631654f2f6",
   "metadata": {},
   "outputs": [],
   "source": [
    "dtc = DiseaseAndTypeClassifier(m)\n",
    "learn2 = deepcopy(learn)\n",
    "learn2.model = dtc\n",
    "learn2.loss_func = dtc_loss \n",
    "# learn2.metrics = None  # We do not have a metrics that works yet\n",
    "learn2.metrics = [dtc_metrics]\n",
    "\n",
    "# learn2.get_preds(dl=learn2.dls.valid) # returns probability and targets"
   ]
  },
  {
   "cell_type": "code",
   "execution_count": 29,
   "id": "1307e103-d3ac-48ee-a081-1cc41c8d5ad5",
   "metadata": {},
   "outputs": [
    {
     "data": {
      "text/html": [
       "\n",
       "<style>\n",
       "    /* Turns off some styling */\n",
       "    progress {\n",
       "        /* gets rid of default border in Firefox and Opera. */\n",
       "        border: none;\n",
       "        /* Needs to be in here for Safari polyfill so background images work as expected. */\n",
       "        background-size: auto;\n",
       "    }\n",
       "    progress:not([value]), progress:not([value])::-webkit-progress-bar {\n",
       "        background: repeating-linear-gradient(45deg, #7e7e7e, #7e7e7e 10px, #5c5c5c 10px, #5c5c5c 20px);\n",
       "    }\n",
       "    .progress-bar-interrupted, .progress-bar-interrupted::-webkit-progress-bar {\n",
       "        background: #F44336;\n",
       "    }\n",
       "</style>\n"
      ],
      "text/plain": [
       "<IPython.core.display.HTML object>"
      ]
     },
     "metadata": {},
     "output_type": "display_data"
    },
    {
     "data": {
      "text/html": [],
      "text/plain": [
       "<IPython.core.display.HTML object>"
      ]
     },
     "metadata": {},
     "output_type": "display_data"
    },
    {
     "data": {
      "text/plain": [
       "SuggestedLRs(valley=0.0008317637839354575)"
      ]
     },
     "execution_count": 29,
     "metadata": {},
     "output_type": "execute_result"
    },
    {
     "data": {
      "image/png": "[encoded data removed]",
      "text/plain": [
       "<Figure size 432x288 with 1 Axes>"
      ]
     },
     "metadata": {
      "needs_background": "light"
     },
     "output_type": "display_data"
    }
   ],
   "source": [
    "learn.lr_find()"
   ]
  },
  {
   "cell_type": "code",
   "execution_count": 30,
   "id": "ad4bf95d-964d-4b6b-9805-caf72d56a6a0",
   "metadata": {},
   "outputs": [
    {
     "data": {
      "text/html": [
       "\n",
       "<style>\n",
       "    /* Turns off some styling */\n",
       "    progress {\n",
       "        /* gets rid of default border in Firefox and Opera. */\n",
       "        border: none;\n",
       "        /* Needs to be in here for Safari polyfill so background images work as expected. */\n",
       "        background-size: auto;\n",
       "    }\n",
       "    progress:not([value]), progress:not([value])::-webkit-progress-bar {\n",
       "        background: repeating-linear-gradient(45deg, #7e7e7e, #7e7e7e 10px, #5c5c5c 10px, #5c5c5c 20px);\n",
       "    }\n",
       "    .progress-bar-interrupted, .progress-bar-interrupted::-webkit-progress-bar {\n",
       "        background: #F44336;\n",
       "    }\n",
       "</style>\n"
      ],
      "text/plain": [
       "<IPython.core.display.HTML object>"
      ]
     },
     "metadata": {},
     "output_type": "display_data"
    },
    {
     "data": {
      "text/html": [
       "<table border=\"1\" class=\"dataframe\">\n",
       "  <thead>\n",
       "    <tr style=\"text-align: left;\">\n",
       "      <th>epoch</th>\n",
       "      <th>train_loss</th>\n",
       "      <th>valid_loss</th>\n",
       "      <th>dtc_metrics</th>\n",
       "      <th>time</th>\n",
       "    </tr>\n",
       "  </thead>\n",
       "  <tbody>\n",
       "    <tr>\n",
       "      <td>0</td>\n",
       "      <td>2.497433</td>\n",
       "      <td>2.430557</td>\n",
       "      <td>0.890918</td>\n",
       "      <td>01:03</td>\n",
       "    </tr>\n",
       "  </tbody>\n",
       "</table>"
      ],
      "text/plain": [
       "<IPython.core.display.HTML object>"
      ]
     },
     "metadata": {},
     "output_type": "display_data"
    },
    {
     "data": {
      "text/html": [
       "\n",
       "<style>\n",
       "    /* Turns off some styling */\n",
       "    progress {\n",
       "        /* gets rid of default border in Firefox and Opera. */\n",
       "        border: none;\n",
       "        /* Needs to be in here for Safari polyfill so background images work as expected. */\n",
       "        background-size: auto;\n",
       "    }\n",
       "    progress:not([value]), progress:not([value])::-webkit-progress-bar {\n",
       "        background: repeating-linear-gradient(45deg, #7e7e7e, #7e7e7e 10px, #5c5c5c 10px, #5c5c5c 20px);\n",
       "    }\n",
       "    .progress-bar-interrupted, .progress-bar-interrupted::-webkit-progress-bar {\n",
       "        background: #F44336;\n",
       "    }\n",
       "</style>\n"
      ],
      "text/plain": [
       "<IPython.core.display.HTML object>"
      ]
     },
     "metadata": {},
     "output_type": "display_data"
    },
    {
     "data": {
      "text/html": [
       "<table border=\"1\" class=\"dataframe\">\n",
       "  <thead>\n",
       "    <tr style=\"text-align: left;\">\n",
       "      <th>epoch</th>\n",
       "      <th>train_loss</th>\n",
       "      <th>valid_loss</th>\n",
       "      <th>dtc_metrics</th>\n",
       "      <th>time</th>\n",
       "    </tr>\n",
       "  </thead>\n",
       "  <tbody>\n",
       "    <tr>\n",
       "      <td>0</td>\n",
       "      <td>2.488581</td>\n",
       "      <td>2.430304</td>\n",
       "      <td>0.890437</td>\n",
       "      <td>01:03</td>\n",
       "    </tr>\n",
       "    <tr>\n",
       "      <td>1</td>\n",
       "      <td>2.507527</td>\n",
       "      <td>2.427459</td>\n",
       "      <td>0.890918</td>\n",
       "      <td>01:03</td>\n",
       "    </tr>\n",
       "    <tr>\n",
       "      <td>2</td>\n",
       "      <td>2.502759</td>\n",
       "      <td>2.430322</td>\n",
       "      <td>0.887074</td>\n",
       "      <td>01:03</td>\n",
       "    </tr>\n",
       "  </tbody>\n",
       "</table>"
      ],
      "text/plain": [
       "<IPython.core.display.HTML object>"
      ]
     },
     "metadata": {},
     "output_type": "display_data"
    }
   ],
   "source": [
    "learn2.fine_tune(3, 0.01)"
   ]
  },
  {
   "cell_type": "code",
   "execution_count": 32,
   "id": "2eb8c7b0-2fa6-4175-8ef0-1eb117397ed3",
   "metadata": {},
   "outputs": [
    {
     "data": {
      "text/html": [
       "\n",
       "<style>\n",
       "    /* Turns off some styling */\n",
       "    progress {\n",
       "        /* gets rid of default border in Firefox and Opera. */\n",
       "        border: none;\n",
       "        /* Needs to be in here for Safari polyfill so background images work as expected. */\n",
       "        background-size: auto;\n",
       "    }\n",
       "    progress:not([value]), progress:not([value])::-webkit-progress-bar {\n",
       "        background: repeating-linear-gradient(45deg, #7e7e7e, #7e7e7e 10px, #5c5c5c 10px, #5c5c5c 20px);\n",
       "    }\n",
       "    .progress-bar-interrupted, .progress-bar-interrupted::-webkit-progress-bar {\n",
       "        background: #F44336;\n",
       "    }\n",
       "</style>\n"
      ],
      "text/plain": [
       "<IPython.core.display.HTML object>"
      ]
     },
     "metadata": {},
     "output_type": "display_data"
    },
    {
     "data": {
      "text/html": [
       "<table border=\"1\" class=\"dataframe\">\n",
       "  <thead>\n",
       "    <tr style=\"text-align: left;\">\n",
       "      <th>epoch</th>\n",
       "      <th>train_loss</th>\n",
       "      <th>valid_loss</th>\n",
       "      <th>error_rate</th>\n",
       "      <th>time</th>\n",
       "    </tr>\n",
       "  </thead>\n",
       "  <tbody>\n",
       "    <tr>\n",
       "      <td>0</td>\n",
       "      <td>1.976934</td>\n",
       "      <td>1.085664</td>\n",
       "      <td>0.345026</td>\n",
       "      <td>01:04</td>\n",
       "    </tr>\n",
       "  </tbody>\n",
       "</table>"
      ],
      "text/plain": [
       "<IPython.core.display.HTML object>"
      ]
     },
     "metadata": {},
     "output_type": "display_data"
    },
    {
     "data": {
      "text/html": [
       "\n",
       "<style>\n",
       "    /* Turns off some styling */\n",
       "    progress {\n",
       "        /* gets rid of default border in Firefox and Opera. */\n",
       "        border: none;\n",
       "        /* Needs to be in here for Safari polyfill so background images work as expected. */\n",
       "        background-size: auto;\n",
       "    }\n",
       "    progress:not([value]), progress:not([value])::-webkit-progress-bar {\n",
       "        background: repeating-linear-gradient(45deg, #7e7e7e, #7e7e7e 10px, #5c5c5c 10px, #5c5c5c 20px);\n",
       "    }\n",
       "    .progress-bar-interrupted, .progress-bar-interrupted::-webkit-progress-bar {\n",
       "        background: #F44336;\n",
       "    }\n",
       "</style>\n"
      ],
      "text/plain": [
       "<IPython.core.display.HTML object>"
      ]
     },
     "metadata": {},
     "output_type": "display_data"
    },
    {
     "data": {
      "text/html": [
       "<table border=\"1\" class=\"dataframe\">\n",
       "  <thead>\n",
       "    <tr style=\"text-align: left;\">\n",
       "      <th>epoch</th>\n",
       "      <th>train_loss</th>\n",
       "      <th>valid_loss</th>\n",
       "      <th>error_rate</th>\n",
       "      <th>time</th>\n",
       "    </tr>\n",
       "  </thead>\n",
       "  <tbody>\n",
       "    <tr>\n",
       "      <td>0</td>\n",
       "      <td>0.839950</td>\n",
       "      <td>0.470263</td>\n",
       "      <td>0.146084</td>\n",
       "      <td>01:29</td>\n",
       "    </tr>\n",
       "    <tr>\n",
       "      <td>1</td>\n",
       "      <td>0.379459</td>\n",
       "      <td>0.274309</td>\n",
       "      <td>0.076886</td>\n",
       "      <td>01:29</td>\n",
       "    </tr>\n",
       "    <tr>\n",
       "      <td>2</td>\n",
       "      <td>0.156593</td>\n",
       "      <td>0.227549</td>\n",
       "      <td>0.065834</td>\n",
       "      <td>01:29</td>\n",
       "    </tr>\n",
       "  </tbody>\n",
       "</table>"
      ],
      "text/plain": [
       "<IPython.core.display.HTML object>"
      ]
     },
     "metadata": {},
     "output_type": "display_data"
    }
   ],
   "source": [
    "learn.fine_tune(3)"
   ]
  },
  {
   "cell_type": "code",
   "execution_count": null,
   "id": "20afeaa7-612f-4482-9164-5c1b982c6de3",
   "metadata": {},
   "outputs": [],
   "source": []
  }
 ],
 "metadata": {
  "kernelspec": {
   "display_name": "Python 3 (ipykernel)",
   "language": "python",
   "name": "python3"
  },
  "language_info": {
   "codemirror_mode": {
    "name": "ipython",
    "version": 3
   },
   "file_extension": ".py",
   "mimetype": "text/x-python",
   "name": "python",
   "nbconvert_exporter": "python",
   "pygments_lexer": "ipython3",
   "version": "3.9.13"
  }
 },
 "nbformat": 4,
 "nbformat_minor": 5
}
