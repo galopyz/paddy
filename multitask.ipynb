{
 "cells": [
  {
   "cell_type": "markdown",
   "id": "ea8c0f07-cdb1-491d-9d96-8775aaec39c7",
   "metadata": {},
   "source": [
    "# Multitask"
   ]
  },
  {
   "cell_type": "markdown",
   "id": "76e8452d-b4d8-48c9-a253-159067a3e694",
   "metadata": {},
   "source": [
    "Recognizing variety -> recognizing disease"
   ]
  },
  {
   "cell_type": "markdown",
   "id": "182bb824-8710-4323-88c5-8c6424a7ede4",
   "metadata": {},
   "source": [
    "After changing head notebook, here is an easier way to do it."
   ]
  },
  {
   "cell_type": "code",
   "execution_count": 24,
   "id": "4cf2d9a0-330c-4b1d-a6f6-9207ca681cc2",
   "metadata": {},
   "outputs": [],
   "source": [
    "from fastai.vision.all import *\n",
    "from fastcore.parallel import *\n",
    "path = Path()\n",
    "trn_path = path/'train_images'"
   ]
  },
  {
   "cell_type": "code",
   "execution_count": 25,
   "id": "21ca9994-b5cc-46b8-83fc-d479c2a6cb3e",
   "metadata": {},
   "outputs": [
    {
     "data": {
      "text/html": [
       "<div>\n",
       "<style scoped>\n",
       "    .dataframe tbody tr th:only-of-type {\n",
       "        vertical-align: middle;\n",
       "    }\n",
       "\n",
       "    .dataframe tbody tr th {\n",
       "        vertical-align: top;\n",
       "    }\n",
       "\n",
       "    .dataframe thead th {\n",
       "        text-align: right;\n",
       "    }\n",
       "</style>\n",
       "<table border=\"1\" class=\"dataframe\">\n",
       "  <thead>\n",
       "    <tr style=\"text-align: right;\">\n",
       "      <th></th>\n",
       "      <th>image_id</th>\n",
       "      <th>label</th>\n",
       "      <th>variety</th>\n",
       "      <th>age</th>\n",
       "    </tr>\n",
       "  </thead>\n",
       "  <tbody>\n",
       "    <tr>\n",
       "      <th>0</th>\n",
       "      <td>100330.jpg</td>\n",
       "      <td>bacterial_leaf_blight</td>\n",
       "      <td>ADT45</td>\n",
       "      <td>45</td>\n",
       "    </tr>\n",
       "    <tr>\n",
       "      <th>1</th>\n",
       "      <td>100365.jpg</td>\n",
       "      <td>bacterial_leaf_blight</td>\n",
       "      <td>ADT45</td>\n",
       "      <td>45</td>\n",
       "    </tr>\n",
       "    <tr>\n",
       "      <th>2</th>\n",
       "      <td>100382.jpg</td>\n",
       "      <td>bacterial_leaf_blight</td>\n",
       "      <td>ADT45</td>\n",
       "      <td>45</td>\n",
       "    </tr>\n",
       "    <tr>\n",
       "      <th>3</th>\n",
       "      <td>100632.jpg</td>\n",
       "      <td>bacterial_leaf_blight</td>\n",
       "      <td>ADT45</td>\n",
       "      <td>45</td>\n",
       "    </tr>\n",
       "    <tr>\n",
       "      <th>4</th>\n",
       "      <td>101918.jpg</td>\n",
       "      <td>bacterial_leaf_blight</td>\n",
       "      <td>ADT45</td>\n",
       "      <td>45</td>\n",
       "    </tr>\n",
       "  </tbody>\n",
       "</table>\n",
       "</div>"
      ],
      "text/plain": [
       "     image_id                  label variety  age\n",
       "0  100330.jpg  bacterial_leaf_blight   ADT45   45\n",
       "1  100365.jpg  bacterial_leaf_blight   ADT45   45\n",
       "2  100382.jpg  bacterial_leaf_blight   ADT45   45\n",
       "3  100632.jpg  bacterial_leaf_blight   ADT45   45\n",
       "4  101918.jpg  bacterial_leaf_blight   ADT45   45"
      ]
     },
     "execution_count": 25,
     "metadata": {},
     "output_type": "execute_result"
    }
   ],
   "source": [
    "df = pd.read_csv('train.csv')\n",
    "df.head()"
   ]
  },
  {
   "cell_type": "markdown",
   "id": "839537c8-1ddb-4698-af44-91d9d3941891",
   "metadata": {},
   "source": [
    "Turning DataLoaders into DataBlocks. We need to return 2 outputs, variety and disease."
   ]
  },
  {
   "cell_type": "code",
   "execution_count": 26,
   "id": "89590cb1-9da3-429a-8e12-c2d5f85d125b",
   "metadata": {},
   "outputs": [],
   "source": [
    "img2variety = { r.image_id:r.variety for _,r in df.iterrows() }"
   ]
  },
  {
   "cell_type": "code",
   "execution_count": 27,
   "id": "e359755f-3cc5-4925-848f-13144afd86c5",
   "metadata": {},
   "outputs": [],
   "source": [
    "def get_variety(p):\n",
    "    \"Turn path into image name\"\n",
    "    return img2variety[p.name]"
   ]
  },
  {
   "cell_type": "code",
   "execution_count": 28,
   "id": "19042cc8-2f15-4036-9fba-cdc54b64e78e",
   "metadata": {},
   "outputs": [],
   "source": [
    "dblock = DataBlock(\n",
    "    blocks=(ImageBlock, CategoryBlock, CategoryBlock),\n",
    "    n_inp=1,                                                 # Have to tell how many inputs\n",
    "    get_items=get_image_files,\n",
    "    get_y=[parent_label, get_variety],\n",
    "    splitter=RandomSplitter(seed=42),\n",
    "    item_tfms=Resize(224),\n",
    "    batch_tfms=aug_transforms(size=128),\n",
    ")"
   ]
  },
  {
   "cell_type": "code",
   "execution_count": 39,
   "id": "8ced3b75-4881-44da-a49d-2cc808252768",
   "metadata": {
    "tags": []
   },
   "outputs": [],
   "source": [
    "dls = dblock.dataloaders(trn_path, bs=512)\n",
    "# dls.show_batch()"
   ]
  },
  {
   "cell_type": "markdown",
   "id": "bdda0539-9f01-49c2-8c69-b1df17c8aa16",
   "metadata": {},
   "source": [
    "## Customizing head"
   ]
  },
  {
   "cell_type": "code",
   "execution_count": 36,
   "id": "334b0926-eddf-4386-85bd-49b4aee42c15",
   "metadata": {},
   "outputs": [],
   "source": [
    "orig_lf = CrossEntropyLossFlat()\n",
    "\n",
    "def disease_err(inp,disease,variety): return error_rate(inp[:,:10],disease)\n",
    "def variety_err(inp,disease,variety): return error_rate(inp[:,10:],variety)\n",
    "def disease_loss(inp,disease,variety): return orig_lf(inp[:,:10],disease)\n",
    "def variety_loss(inp,disease,variety): return orig_lf(inp[:,10:],variety)\n",
    "def loss(pred,disease,variety): return orig_lf(pred[:,:10],disease)+orig_lf(pred[:,10:],variety)"
   ]
  },
  {
   "cell_type": "code",
   "execution_count": 31,
   "id": "33258d1d-5dff-4b22-ace6-475b94edcbf2",
   "metadata": {},
   "outputs": [],
   "source": [
    "err_metrics = (disease_err,variety_err)\n",
    "all_metrics = err_metrics+(disease_loss,variety_loss)"
   ]
  },
  {
   "cell_type": "code",
   "execution_count": 40,
   "id": "90762a65-855c-462c-b204-da297e3ff4e7",
   "metadata": {},
   "outputs": [],
   "source": [
    "arch = resnet18"
   ]
  },
  {
   "cell_type": "code",
   "execution_count": 41,
   "id": "f6c92b2f-d38f-48b4-9270-843a2d57ffc3",
   "metadata": {},
   "outputs": [],
   "source": [
    "learn = vision_learner(dls, arch, loss_func=loss, metrics=all_metrics, n_out=20).to_fp16()"
   ]
  },
  {
   "cell_type": "code",
   "execution_count": 42,
   "id": "fdac1aba-9186-4922-9d63-34e303e9a33f",
   "metadata": {},
   "outputs": [
    {
     "data": {
      "text/html": [
       "\n",
       "<style>\n",
       "    /* Turns off some styling */\n",
       "    progress {\n",
       "        /* gets rid of default border in Firefox and Opera. */\n",
       "        border: none;\n",
       "        /* Needs to be in here for Safari polyfill so background images work as expected. */\n",
       "        background-size: auto;\n",
       "    }\n",
       "    progress:not([value]), progress:not([value])::-webkit-progress-bar {\n",
       "        background: repeating-linear-gradient(45deg, #7e7e7e, #7e7e7e 10px, #5c5c5c 10px, #5c5c5c 20px);\n",
       "    }\n",
       "    .progress-bar-interrupted, .progress-bar-interrupted::-webkit-progress-bar {\n",
       "        background: #F44336;\n",
       "    }\n",
       "</style>\n"
      ],
      "text/plain": [
       "<IPython.core.display.HTML object>"
      ]
     },
     "metadata": {},
     "output_type": "display_data"
    },
    {
     "data": {
      "text/html": [],
      "text/plain": [
       "<IPython.core.display.HTML object>"
      ]
     },
     "metadata": {},
     "output_type": "display_data"
    },
    {
     "data": {
      "text/plain": [
       "SuggestedLRs(valley=0.0012022644514217973)"
      ]
     },
     "execution_count": 42,
     "metadata": {},
     "output_type": "execute_result"
    },
    {
     "data": {
      "image/png": "[encoded data removed]",
      "text/plain": [
       "<Figure size 432x288 with 1 Axes>"
      ]
     },
     "metadata": {
      "needs_background": "light"
     },
     "output_type": "display_data"
    }
   ],
   "source": [
    "learn.lr_find()"
   ]
  },
  {
   "cell_type": "code",
   "execution_count": 43,
   "id": "eed65d4d-3373-4ee8-8310-5dacfacb6a82",
   "metadata": {},
   "outputs": [
    {
     "data": {
      "text/html": [
       "\n",
       "<style>\n",
       "    /* Turns off some styling */\n",
       "    progress {\n",
       "        /* gets rid of default border in Firefox and Opera. */\n",
       "        border: none;\n",
       "        /* Needs to be in here for Safari polyfill so background images work as expected. */\n",
       "        background-size: auto;\n",
       "    }\n",
       "    progress:not([value]), progress:not([value])::-webkit-progress-bar {\n",
       "        background: repeating-linear-gradient(45deg, #7e7e7e, #7e7e7e 10px, #5c5c5c 10px, #5c5c5c 20px);\n",
       "    }\n",
       "    .progress-bar-interrupted, .progress-bar-interrupted::-webkit-progress-bar {\n",
       "        background: #F44336;\n",
       "    }\n",
       "</style>\n"
      ],
      "text/plain": [
       "<IPython.core.display.HTML object>"
      ]
     },
     "metadata": {},
     "output_type": "display_data"
    },
    {
     "data": {
      "text/html": [
       "<table border=\"1\" class=\"dataframe\">\n",
       "  <thead>\n",
       "    <tr style=\"text-align: left;\">\n",
       "      <th>epoch</th>\n",
       "      <th>train_loss</th>\n",
       "      <th>valid_loss</th>\n",
       "      <th>disease_err</th>\n",
       "      <th>variety_err</th>\n",
       "      <th>disease_loss</th>\n",
       "      <th>variety_loss</th>\n",
       "      <th>time</th>\n",
       "    </tr>\n",
       "  </thead>\n",
       "  <tbody>\n",
       "    <tr>\n",
       "      <td>0</td>\n",
       "      <td>5.427993</td>\n",
       "      <td>2.760610</td>\n",
       "      <td>0.508409</td>\n",
       "      <td>0.273426</td>\n",
       "      <td>1.692365</td>\n",
       "      <td>1.068245</td>\n",
       "      <td>00:27</td>\n",
       "    </tr>\n",
       "  </tbody>\n",
       "</table>"
      ],
      "text/plain": [
       "<IPython.core.display.HTML object>"
      ]
     },
     "metadata": {},
     "output_type": "display_data"
    },
    {
     "data": {
      "text/html": [
       "\n",
       "<style>\n",
       "    /* Turns off some styling */\n",
       "    progress {\n",
       "        /* gets rid of default border in Firefox and Opera. */\n",
       "        border: none;\n",
       "        /* Needs to be in here for Safari polyfill so background images work as expected. */\n",
       "        background-size: auto;\n",
       "    }\n",
       "    progress:not([value]), progress:not([value])::-webkit-progress-bar {\n",
       "        background: repeating-linear-gradient(45deg, #7e7e7e, #7e7e7e 10px, #5c5c5c 10px, #5c5c5c 20px);\n",
       "    }\n",
       "    .progress-bar-interrupted, .progress-bar-interrupted::-webkit-progress-bar {\n",
       "        background: #F44336;\n",
       "    }\n",
       "</style>\n"
      ],
      "text/plain": [
       "<IPython.core.display.HTML object>"
      ]
     },
     "metadata": {},
     "output_type": "display_data"
    },
    {
     "data": {
      "text/html": [
       "<table border=\"1\" class=\"dataframe\">\n",
       "  <thead>\n",
       "    <tr style=\"text-align: left;\">\n",
       "      <th>epoch</th>\n",
       "      <th>train_loss</th>\n",
       "      <th>valid_loss</th>\n",
       "      <th>disease_err</th>\n",
       "      <th>variety_err</th>\n",
       "      <th>disease_loss</th>\n",
       "      <th>variety_loss</th>\n",
       "      <th>time</th>\n",
       "    </tr>\n",
       "  </thead>\n",
       "  <tbody>\n",
       "    <tr>\n",
       "      <td>0</td>\n",
       "      <td>2.792350</td>\n",
       "      <td>1.930792</td>\n",
       "      <td>0.338779</td>\n",
       "      <td>0.208073</td>\n",
       "      <td>1.079274</td>\n",
       "      <td>0.851519</td>\n",
       "      <td>00:31</td>\n",
       "    </tr>\n",
       "    <tr>\n",
       "      <td>1</td>\n",
       "      <td>2.274664</td>\n",
       "      <td>1.267292</td>\n",
       "      <td>0.263815</td>\n",
       "      <td>0.114849</td>\n",
       "      <td>0.819293</td>\n",
       "      <td>0.448000</td>\n",
       "      <td>00:31</td>\n",
       "    </tr>\n",
       "    <tr>\n",
       "      <td>2</td>\n",
       "      <td>1.830127</td>\n",
       "      <td>0.842876</td>\n",
       "      <td>0.188852</td>\n",
       "      <td>0.073042</td>\n",
       "      <td>0.592190</td>\n",
       "      <td>0.250686</td>\n",
       "      <td>00:32</td>\n",
       "    </tr>\n",
       "    <tr>\n",
       "      <td>3</td>\n",
       "      <td>1.462955</td>\n",
       "      <td>0.625289</td>\n",
       "      <td>0.142239</td>\n",
       "      <td>0.049015</td>\n",
       "      <td>0.445932</td>\n",
       "      <td>0.179357</td>\n",
       "      <td>00:31</td>\n",
       "    </tr>\n",
       "    <tr>\n",
       "      <td>4</td>\n",
       "      <td>1.189017</td>\n",
       "      <td>0.502174</td>\n",
       "      <td>0.112446</td>\n",
       "      <td>0.043248</td>\n",
       "      <td>0.362558</td>\n",
       "      <td>0.139617</td>\n",
       "      <td>00:31</td>\n",
       "    </tr>\n",
       "    <tr>\n",
       "      <td>5</td>\n",
       "      <td>0.968015</td>\n",
       "      <td>0.407751</td>\n",
       "      <td>0.093224</td>\n",
       "      <td>0.037001</td>\n",
       "      <td>0.282074</td>\n",
       "      <td>0.125677</td>\n",
       "      <td>00:31</td>\n",
       "    </tr>\n",
       "    <tr>\n",
       "      <td>6</td>\n",
       "      <td>0.789473</td>\n",
       "      <td>0.352119</td>\n",
       "      <td>0.076886</td>\n",
       "      <td>0.027391</td>\n",
       "      <td>0.242616</td>\n",
       "      <td>0.109504</td>\n",
       "      <td>00:32</td>\n",
       "    </tr>\n",
       "    <tr>\n",
       "      <td>7</td>\n",
       "      <td>0.651571</td>\n",
       "      <td>0.323078</td>\n",
       "      <td>0.068236</td>\n",
       "      <td>0.024507</td>\n",
       "      <td>0.230803</td>\n",
       "      <td>0.092274</td>\n",
       "      <td>00:33</td>\n",
       "    </tr>\n",
       "    <tr>\n",
       "      <td>8</td>\n",
       "      <td>0.537516</td>\n",
       "      <td>0.304248</td>\n",
       "      <td>0.063431</td>\n",
       "      <td>0.025469</td>\n",
       "      <td>0.199379</td>\n",
       "      <td>0.104868</td>\n",
       "      <td>00:32</td>\n",
       "    </tr>\n",
       "    <tr>\n",
       "      <td>9</td>\n",
       "      <td>0.444250</td>\n",
       "      <td>0.290773</td>\n",
       "      <td>0.056704</td>\n",
       "      <td>0.021144</td>\n",
       "      <td>0.204577</td>\n",
       "      <td>0.086195</td>\n",
       "      <td>00:32</td>\n",
       "    </tr>\n",
       "    <tr>\n",
       "      <td>10</td>\n",
       "      <td>0.368637</td>\n",
       "      <td>0.253437</td>\n",
       "      <td>0.053340</td>\n",
       "      <td>0.020183</td>\n",
       "      <td>0.181140</td>\n",
       "      <td>0.072297</td>\n",
       "      <td>00:32</td>\n",
       "    </tr>\n",
       "    <tr>\n",
       "      <td>11</td>\n",
       "      <td>0.308235</td>\n",
       "      <td>0.230030</td>\n",
       "      <td>0.042287</td>\n",
       "      <td>0.018741</td>\n",
       "      <td>0.156650</td>\n",
       "      <td>0.073380</td>\n",
       "      <td>00:31</td>\n",
       "    </tr>\n",
       "    <tr>\n",
       "      <td>12</td>\n",
       "      <td>0.258624</td>\n",
       "      <td>0.226603</td>\n",
       "      <td>0.041807</td>\n",
       "      <td>0.016338</td>\n",
       "      <td>0.159695</td>\n",
       "      <td>0.066908</td>\n",
       "      <td>00:31</td>\n",
       "    </tr>\n",
       "    <tr>\n",
       "      <td>13</td>\n",
       "      <td>0.216405</td>\n",
       "      <td>0.209037</td>\n",
       "      <td>0.036521</td>\n",
       "      <td>0.016338</td>\n",
       "      <td>0.143598</td>\n",
       "      <td>0.065439</td>\n",
       "      <td>00:32</td>\n",
       "    </tr>\n",
       "    <tr>\n",
       "      <td>14</td>\n",
       "      <td>0.179497</td>\n",
       "      <td>0.200673</td>\n",
       "      <td>0.038443</td>\n",
       "      <td>0.013936</td>\n",
       "      <td>0.138366</td>\n",
       "      <td>0.062307</td>\n",
       "      <td>00:32</td>\n",
       "    </tr>\n",
       "    <tr>\n",
       "      <td>15</td>\n",
       "      <td>0.153064</td>\n",
       "      <td>0.184504</td>\n",
       "      <td>0.036040</td>\n",
       "      <td>0.011533</td>\n",
       "      <td>0.127139</td>\n",
       "      <td>0.057365</td>\n",
       "      <td>00:33</td>\n",
       "    </tr>\n",
       "    <tr>\n",
       "      <td>16</td>\n",
       "      <td>0.129742</td>\n",
       "      <td>0.177767</td>\n",
       "      <td>0.033157</td>\n",
       "      <td>0.012494</td>\n",
       "      <td>0.122009</td>\n",
       "      <td>0.055758</td>\n",
       "      <td>00:31</td>\n",
       "    </tr>\n",
       "    <tr>\n",
       "      <td>17</td>\n",
       "      <td>0.110439</td>\n",
       "      <td>0.178229</td>\n",
       "      <td>0.033638</td>\n",
       "      <td>0.011533</td>\n",
       "      <td>0.123305</td>\n",
       "      <td>0.054924</td>\n",
       "      <td>00:32</td>\n",
       "    </tr>\n",
       "    <tr>\n",
       "      <td>18</td>\n",
       "      <td>0.096179</td>\n",
       "      <td>0.177701</td>\n",
       "      <td>0.032677</td>\n",
       "      <td>0.011533</td>\n",
       "      <td>0.123894</td>\n",
       "      <td>0.053807</td>\n",
       "      <td>00:32</td>\n",
       "    </tr>\n",
       "    <tr>\n",
       "      <td>19</td>\n",
       "      <td>0.085028</td>\n",
       "      <td>0.178071</td>\n",
       "      <td>0.033157</td>\n",
       "      <td>0.011533</td>\n",
       "      <td>0.124083</td>\n",
       "      <td>0.053988</td>\n",
       "      <td>00:32</td>\n",
       "    </tr>\n",
       "  </tbody>\n",
       "</table>"
      ],
      "text/plain": [
       "<IPython.core.display.HTML object>"
      ]
     },
     "metadata": {},
     "output_type": "display_data"
    }
   ],
   "source": [
    "learn.fine_tune(20, 0.01)"
   ]
  },
  {
   "cell_type": "markdown",
   "id": "024d3dac-0667-4d5e-8624-3377a54ba953",
   "metadata": {},
   "source": [
    "After 20 epochs, it is better than training normally."
   ]
  },
  {
   "cell_type": "markdown",
   "id": "09291499-b584-4f80-b2da-344c6b4792cf",
   "metadata": {},
   "source": [
    "What would happen if we add progressive sizing?"
   ]
  },
  {
   "cell_type": "code",
   "execution_count": null,
   "id": "949e526c-9e86-4329-b52c-b0233fed0c55",
   "metadata": {},
   "outputs": [],
   "source": []
  }
 ],
 "metadata": {
  "kernelspec": {
   "display_name": "Python 3 (ipykernel)",
   "language": "python",
   "name": "python3"
  },
  "language_info": {
   "codemirror_mode": {
    "name": "ipython",
    "version": 3
   },
   "file_extension": ".py",
   "mimetype": "text/x-python",
   "name": "python",
   "nbconvert_exporter": "python",
   "pygments_lexer": "ipython3",
   "version": "3.9.13"
  }
 },
 "nbformat": 4,
 "nbformat_minor": 5
}
